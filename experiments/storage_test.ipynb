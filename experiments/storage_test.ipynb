{
 "cells": [
  {
   "cell_type": "code",
   "execution_count": 9,
   "id": "7e50a895",
   "metadata": {},
   "outputs": [
    {
     "name": "stdout",
     "output_type": "stream",
     "text": [
      "dev-bucket\n",
      "site-analyzer\n",
      "test\n",
      "Download URL: http://localhost:9000/site-analyzer/2/3/zone_masked.tif?AWSAccessKeyId=rootname&Signature=QV15iML4CXJK2E1cHf9rC%2FgOxAU%3D&Expires=1756255294\n"
     ]
    }
   ],
   "source": [
    "import boto3\n",
    "import os\n",
    "\n",
    "# Connect to MinIO\n",
    "s3 = boto3.client(\n",
    "    \"s3\",\n",
    "    endpoint_url=\"http://localhost:9000\",   # MinIO API endpoint\n",
    "    aws_access_key_id=\"rootname\",         # MinIO root user\n",
    "    aws_secret_access_key=\"changethis\",     # MinIO root password\n",
    "    region_name=\"us-east-1\"                 # Region (can be anything for MinIO)\n",
    ")\n",
    "\n",
    "root_dir = os.path.abspath(f\"..\")\n",
    "\n",
    "# List buckets\n",
    "for bucket in s3.list_buckets()[\"Buckets\"]:\n",
    "    print(bucket[\"Name\"])\n",
    "\n",
    "# Create a new bucket\n",
    "bucket_name = \"site-analyzer\"\n",
    "# s3.create_bucket(Bucket=bucket_name)\n",
    "\n",
    "# Upload a file\n",
    "s3.upload_file(f\"{root_dir}/output-data/engine/task-6/zone_masked.tif\", bucket_name, \"2/3/zone_masked.tif\")\n",
    "\n",
    "# Generate a presigned URL for download (valid 5 min)\n",
    "url = s3.generate_presigned_url(\n",
    "    \"get_object\",\n",
    "    Params={\"Bucket\": bucket_name, \"Key\": \"2/3/zone_masked.tif\"},\n",
    "    ExpiresIn=300\n",
    ")\n",
    "\n",
    "print(\"Download URL:\", url)\n"
   ]
  }
 ],
 "metadata": {
  "kernelspec": {
   "display_name": "experiments",
   "language": "python",
   "name": "python3"
  },
  "language_info": {
   "codemirror_mode": {
    "name": "ipython",
    "version": 3
   },
   "file_extension": ".py",
   "mimetype": "text/x-python",
   "name": "python",
   "nbconvert_exporter": "python",
   "pygments_lexer": "ipython3",
   "version": "3.13.1"
  }
 },
 "nbformat": 4,
 "nbformat_minor": 5
}
