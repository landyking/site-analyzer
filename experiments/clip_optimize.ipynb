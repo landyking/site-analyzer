{
 "cells": [
  {
   "cell_type": "code",
   "execution_count": 6,
   "id": "9cfd7b35",
   "metadata": {},
   "outputs": [],
   "source": [
    "import geopandas as gpd\n",
    "import time\n",
    "import sys,os\n",
    "\n",
    "root_dir = os.path.abspath(f\"..\")\n",
    "\n",
    "def execute(input, boundary):\n",
    "    # ========== 1. Data Loading ==========\n",
    "    gdf = gpd.read_file(input)\n",
    "    boundary = gpd.read_file(boundary)\n",
    "\n",
    "    print(\"✅ Data loading completed\")\n",
    "    print(\"Number of input features:\", len(gdf))\n",
    "    print(\"Number of clip area features:\", len(boundary))\n",
    "\n",
    "\n",
    "    # ========== 2. CRS Check ==========\n",
    "    print(\"\\n[CRS Check]\")\n",
    "    print(\"Input data CRS:\", gdf.crs)\n",
    "    print(\"Clip data CRS:\", boundary.crs)\n",
    "\n",
    "    if gdf.crs != boundary.crs:\n",
    "        print(\"⚠️ CRS mismatch, reprojecting ...\")\n",
    "        boundary = boundary.to_crs(gdf.crs)\n",
    "\n",
    "\n",
    "    # ========== 3. Geometry Complexity Analysis ==========\n",
    "    print(\"\\n[Geometry Complexity]\")\n",
    "    print(\"Geometry type distribution:\\n\", gdf.geometry.type.value_counts())\n",
    "\n",
    "    # Average length/area\n",
    "    print(\"Average length:\", gdf.length.mean())\n",
    "    print(\"Average area:\", gdf.area.mean())\n",
    "\n",
    "    # Clip area complexity\n",
    "    boundary_vertices = sum(\n",
    "        len(geom.exterior.coords) \n",
    "        for geom in boundary.geometry if geom.geom_type == \"Polygon\"\n",
    "    )\n",
    "    print(\"Total number of vertices in clip area:\", boundary_vertices)\n",
    "\n",
    "\n",
    "    # ========== 4. Spatial Index ==========\n",
    "    print(\"\\n[Spatial Index]\")\n",
    "    sindex = gdf.sindex\n",
    "    print(\"Index type:\", type(sindex))\n",
    "    print(\"Number of geometries in index:\", len(sindex))\n",
    "\n",
    "\n",
    "    # ========== 5. Bounding Box Filter Effect ==========\n",
    "    bbox = boundary.total_bounds  # [xmin, ymin, xmax, ymax]\n",
    "    gdf_small = gdf.cx[bbox[0]:bbox[2], bbox[1]:bbox[3]]\n",
    "    print(\"\\n[Bounding Box Filter]\")\n",
    "    print(\"Before filter:\", len(gdf), \"After filter:\", len(gdf_small))\n",
    "\n",
    "\n",
    "    # ========== 6. Clip Performance Test ==========\n",
    "    print(\"\\n[Clip Performance Test]\")\n",
    "    start = time.time()\n",
    "    clipped = gpd.clip(gdf_small, boundary)\n",
    "    print(\"Clip time:\", round(time.time() - start, 2), \"seconds\")\n",
    "    print(\"Number of result features:\", len(clipped))\n",
    "\n",
    "\n",
    "    # ========== 7. Memory Usage ==========\n",
    "    print(\"\\n[Memory Usage]\")\n",
    "    print(\"Input data size:\", sys.getsizeof(gdf), \"bytes\")\n",
    "    print(\"Result data size:\", sys.getsizeof(clipped), \"bytes\")\n"
   ]
  },
  {
   "cell_type": "code",
   "execution_count": null,
   "id": "3ed35487",
   "metadata": {},
   "outputs": [],
   "source": [
    "execute(f'{root_dir}/test-data/lds-nz-lake-polygons-topo-150k-SHP/nz-lake-polygons-topo-150k.shp', \n",
    "        f'{root_dir}/output-data/district.shp')"
   ]
  },
  {
   "cell_type": "code",
   "execution_count": 7,
   "id": "e94b98a0",
   "metadata": {},
   "outputs": [
    {
     "name": "stdout",
     "output_type": "stream",
     "text": [
      "✅ Data loading completed\n",
      "Number of input features: 711933\n",
      "Number of clip area features: 1\n",
      "\n",
      "[CRS Check]\n",
      "Input data CRS: EPSG:2193\n",
      "Clip data CRS: EPSG:2193\n",
      "\n",
      "[Geometry Complexity]\n",
      "Geometry type distribution:\n",
      " LineString    711933\n",
      "Name: count, dtype: int64\n",
      "Average length: 706.8492199016052\n",
      "Average area: 0.0\n",
      "Total number of vertices in clip area: 0\n",
      "\n",
      "[Spatial Index]\n",
      "Index type: <class 'geopandas.sindex.SpatialIndex'>\n",
      "Number of geometries in index: 711933\n",
      "\n",
      "[Bounding Box Filter]\n",
      "Before filter: 711933 After filter: 21436\n",
      "\n",
      "[Clip Performance Test]\n",
      "Clip time: 1053.46 seconds\n",
      "Number of result features: 17315\n",
      "\n",
      "[Memory Usage]\n",
      "Input data size: 8543360 bytes\n",
      "Result data size: 346332 bytes\n"
     ]
    }
   ],
   "source": [
    "execute(f'{root_dir}/test-data/lds-nz-river-centrelines-topo-150k-SHP/nz-river-centrelines-topo-150k.shp', \n",
    "        f'{root_dir}/output-data/district.shp')"
   ]
  },
  {
   "cell_type": "code",
   "execution_count": 4,
   "id": "a45cc4b9",
   "metadata": {},
   "outputs": [
    {
     "name": "stdout",
     "output_type": "stream",
     "text": [
      "Chunk 1/13 | Number of features: 54 | Clip time: 2.76s | Result features: 47\n",
      "Chunk 2/13 | Number of features: 0 | Clip time: 0.0s | Result features: 0\n",
      "Chunk 3/13 | Number of features: 0 | Clip time: 0.0s | Result features: 0\n",
      "Chunk 4/13 | Number of features: 0 | Clip time: 0.0s | Result features: 0\n",
      "Chunk 5/13 | Number of features: 21 | Clip time: 1.58s | Result features: 21\n",
      "Chunk 6/13 | Number of features: 28 | Clip time: 1.83s | Result features: 28\n",
      "Chunk 7/13 | Number of features: 0 | Clip time: 0.0s | Result features: 0\n",
      "Chunk 8/13 | Number of features: 0 | Clip time: 0.0s | Result features: 0\n",
      "Chunk 9/13 | Number of features: 0 | Clip time: 0.0s | Result features: 0\n",
      "Chunk 10/13 | Number of features: 23 | Clip time: 1.56s | Result features: 17\n",
      "Chunk 11/13 | Number of features: 0 | Clip time: 0.0s | Result features: 0\n",
      "Chunk 12/13 | Number of features: 1975 | Clip time: 75.42s | Result features: 1716\n",
      "Chunk 13/13 | Number of features: 9 | Clip time: 1.19s | Result features: 8\n",
      "\n",
      "Total clip time: 84.36 seconds\n",
      "Total number of result features: 1837\n"
     ]
    }
   ],
   "source": [
    "import geopandas as gpd\n",
    "import pandas as pd\n",
    "import time\n",
    "import sys,os\n",
    "\n",
    "root_dir = os.path.abspath(f\"..\")\n",
    "all_lake_shp = f'{root_dir}/test-data/lds-nz-lake-polygons-topo-150k-SHP/nz-lake-polygons-topo-150k.shp'\n",
    "district_shp=f'{root_dir}/output-data/district.shp'\n",
    "\n",
    "# ========== 1. Data Loading ==========\n",
    "gdf = gpd.read_file(all_lake_shp)\n",
    "boundary = gpd.read_file(district_shp)\n",
    "\n",
    "# Reproject if needed\n",
    "if gdf.crs != boundary.crs:\n",
    "    boundary = boundary.to_crs(gdf.crs)\n",
    "\n",
    "# Optional: simplify the clipping geometry first\n",
    "# boundary_simplified = boundary.simplify(tolerance=50, preserve_topology=True)\n",
    "boundary_simplified = boundary\n",
    "\n",
    "# ========== 2. Chunk Processing Parameters ==========\n",
    "chunk_size = 5000  # Number of features per chunk, adjust according to memory\n",
    "num_chunks = (len(gdf) // chunk_size) + 1\n",
    "\n",
    "clipped_chunks = []\n",
    "\n",
    "start_total = time.time()\n",
    "for i in range(num_chunks):\n",
    "    start_idx = i * chunk_size\n",
    "    end_idx = min((i + 1) * chunk_size, len(gdf))\n",
    "    gdf_chunk = gdf.iloc[start_idx:end_idx]\n",
    "    \n",
    "    # Optional: coarse filter with bbox first\n",
    "    bbox = boundary_simplified.total_bounds\n",
    "    gdf_chunk = gdf_chunk.cx[bbox[0]:bbox[2], bbox[1]:bbox[3]]\n",
    "    \n",
    "    # clip\n",
    "    start_chunk = time.time()\n",
    "    clipped_chunk = gpd.clip(gdf_chunk, boundary_simplified)\n",
    "    elapsed_chunk = round(time.time() - start_chunk, 2)\n",
    "    \n",
    "    print(f\"Chunk {i+1}/{num_chunks} | Number of features: {len(gdf_chunk)} | Clip time: {elapsed_chunk}s | Result features: {len(clipped_chunk)}\")\n",
    "    \n",
    "    clipped_chunks.append(clipped_chunk)\n",
    "\n",
    "# ========== 3. Merge Results ==========\n",
    "clipped_final = pd.concat(clipped_chunks, ignore_index=True)\n",
    "\n",
    "end_total = time.time()\n",
    "print(f\"\\nTotal clip time: {round(end_total - start_total, 2)} seconds\")\n",
    "print(\"Total number of result features:\", len(clipped_final))\n"
   ]
  },
  {
   "cell_type": "code",
   "execution_count": 49,
   "id": "67134b31",
   "metadata": {},
   "outputs": [
    {
     "data": {
      "text/plain": [
       "(1566500.2767000003, 6052039.7941, 1722153.2516, 6194308.4926)"
      ]
     },
     "execution_count": 49,
     "metadata": {},
     "output_type": "execute_result"
    }
   ],
   "source": [
    "from shapely import MultiPolygon\n",
    "\n",
    "\n",
    "district_shp=f'{root_dir}/output-data/district.shp'\n",
    "boundary = gpd.read_file(district_shp)\n",
    "mp: MultiPolygon = boundary.geometry.array[0]\n",
    "len(mp.geoms[0].exterior.coords)\n",
    "mp.geoms[0].exterior.coords.xy\n",
    "mp.bounds"
   ]
  },
  {
   "cell_type": "code",
   "execution_count": null,
   "id": "be5c77cb",
   "metadata": {},
   "outputs": [
    {
     "data": {
      "image/svg+xml": [
       "<svg xmlns=\"http://www.w3.org/2000/svg\" xmlns:xlink=\"http://www.w3.org/1999/xlink\" width=\"300\" height=\"300\" viewBox=\"1560274.1577040004 6045813.675104 168105.21289199963 154720.9364920007\" preserveAspectRatio=\"xMinYMin meet\"><g transform=\"matrix(1,0,0,-1,0,12246348.2867)\"><path fill-rule=\"evenodd\" fill=\"#66cc99\" stroke=\"#555555\" stroke-width=\"1120.7014192799975\" opacity=\"0.6\" d=\"M 1722153.2516,6052039.7941 L 1722153.2516,6194308.4926 L 1566500.2767000003,6194308.4926 L 1566500.2767000003,6052039.7941 L 1722153.2516,6052039.7941 z\" /></g></svg>"
      ],
      "text/plain": [
       "<POLYGON ((1722153.252 6052039.794, 1722153.252 6194308.493, 1566500.277 619...>"
      ]
     },
     "execution_count": 53,
     "metadata": {},
     "output_type": "execute_result"
    }
   ],
   "source": [
    "from shapely import box\n",
    "from shapely.geometry import Polygon\n",
    "\n",
    "# get new boundary from old boundary, just keep a minimum rectangle that can contain all old boundary\n",
    "minx, miny, maxx, maxy = boundary.total_bounds\n",
    "bbox = box(minx, miny, maxx, maxy)   # shapely 生成矩形 Polygon\n",
    "\n",
    "# 3. 生成新的 GeoDataFrame\n",
    "bbox_gdf = gpd.GeoDataFrame({'geometry': [bbox]}, crs=boundary.crs)\n",
    "bbox_gdf.geometry[0]\n",
    "\n",
    "# bbox_gdf.to_file(\"city_bbox.shp\")"
   ]
  },
  {
   "cell_type": "code",
   "execution_count": null,
   "id": "462b4380",
   "metadata": {},
   "outputs": [],
   "source": []
  }
 ],
 "metadata": {
  "kernelspec": {
   "display_name": "experiments",
   "language": "python",
   "name": "python3"
  },
  "language_info": {
   "codemirror_mode": {
    "name": "ipython",
    "version": 3
   },
   "file_extension": ".py",
   "mimetype": "text/x-python",
   "name": "python",
   "nbconvert_exporter": "python",
   "pygments_lexer": "ipython3",
   "version": "3.13.1"
  }
 },
 "nbformat": 4,
 "nbformat_minor": 5
}
