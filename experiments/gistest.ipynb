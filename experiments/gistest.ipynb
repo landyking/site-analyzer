{
 "cells": [
  {
   "cell_type": "code",
   "execution_count": null,
   "id": "9c081825",
   "metadata": {},
   "outputs": [],
   "source": [
    "%pip install geopandas\n",
    "%pip install rasterio\n",
    "%pip install scipy"
   ]
  },
  {
   "cell_type": "markdown",
   "id": "b023bec7",
   "metadata": {},
   "source": [
    "# Develop and Test GIS Functions\n",
    "\n",
    "This notebook is for developing and testing the GIS functions implemented in `functions.py` using open-source libraries such as geopandas, rasterio, numpy, and scipy."
   ]
  },
  {
   "cell_type": "code",
   "execution_count": 140,
   "id": "4aead45f",
   "metadata": {},
   "outputs": [],
   "source": [
    "# Import Required Libraries\n",
    "import os\n",
    "import sys\n",
    "import unittest\n",
    "import geopandas as gpd\n",
    "import pandas as pd\n",
    "import rasterio\n",
    "import numpy as np\n",
    "import scipy\n",
    "import rasterio\n",
    "from rasterio.mask import mask\n",
    "from scipy.ndimage import distance_transform_edt\n"
   ]
  },
  {
   "cell_type": "code",
   "execution_count": null,
   "id": "73599415",
   "metadata": {},
   "outputs": [],
   "source": [
    "# Import functions from functions.py\n",
    "cur_dir = os.path.abspath('.')\n",
    "if cur_dir not in sys.path:\n",
    "    sys.path.append(cur_dir)  # Ensure current directory is in path\n",
    "sys.path\n",
    "\n",
    "root_dir = os.path.abspath(f\"..\")\n",
    "root_dir"
   ]
  },
  {
   "cell_type": "code",
   "execution_count": 155,
   "id": "24720892",
   "metadata": {},
   "outputs": [],
   "source": [
    "def show_raster(raster_file,cmap='gray'):\n",
    "    \"\"\"\n",
    "    Displays a raster file using matplotlib.\n",
    "    \n",
    "    Parameters:\n",
    "    - raster_file: Path to the raster file.\n",
    "    \n",
    "    Returns:\n",
    "    - None\n",
    "    \"\"\"\n",
    "    with rasterio.open(raster_file) as src:\n",
    "        pyplot.imshow(src.read(1), cmap=cmap,)\n",
    "        # pyplot.title(\"Raster Display\")\n",
    "        pyplot.axis('off')\n",
    "        pyplot.show()\n",
    "\n",
    "def RPL_Select_analysis(input_shp, output_shp, conditions_expression):\n",
    "    \"\"\"\n",
    "    Selects features from the input shapefile based on a given expression and saves them to an output shapefile.\n",
    "    \n",
    "    Parameters:\n",
    "    - input_shp: Path to the input shapefile.\n",
    "    - output_shp: Path to save the output shapefile.\n",
    "    - conditions_expression: Expression to filter features. Example: \"TA2025_V1_ == '001'\".\n",
    "    \n",
    "    Returns:\n",
    "    - None\n",
    "    \"\"\"\n",
    "    gdf = gpd.read_file(input_shp)\n",
    "    selected_gdf = gdf.query(conditions_expression)\n",
    "    selected_gdf.to_file(output_shp)\n",
    "\n",
    "def RPL_Clip_analysis(output, whole_area, boundary):\n",
    "    \"\"\"\n",
    "    Clips a whole area shapefile to a specified boundary and saves the result.\n",
    "    \n",
    "    Parameters:\n",
    "    - output: Path to save the clipped shapefile.\n",
    "    - whole_area: Path to the whole area shapefile.\n",
    "    - boundary: Path to the boundary shapefile.\n",
    "    \n",
    "    Returns:\n",
    "    - None\n",
    "    \"\"\"\n",
    "    whole_area_gdf = gpd.read_file(whole_area)\n",
    "    boundary_gdf = gpd.read_file(boundary)\n",
    "    \n",
    "    clipped_gdf = gpd.clip(whole_area_gdf, boundary_gdf)\n",
    "    clipped_gdf.to_file(output)\n",
    "\n",
    "def RPL_Buffer_analysis(input, output, buffer_distance):\n",
    "    \"\"\"\n",
    "    Creates a buffer around features in a shapefile and saves the result.\n",
    "    Users can use `[axis.unit_name for axis in gdf.crs.axis_info]` to get the unit of a shapefile.\n",
    "    \n",
    "    Parameters:\n",
    "    - input: Path to the input shapefile.\n",
    "    - output: Path to save the buffered shapefile.\n",
    "    - buffer_distance: Distance for the buffer (float, same unit as input shapefile).\n",
    "\n",
    "    Returns:\n",
    "    - None\n",
    "    \"\"\"\n",
    "    gdf = gpd.read_file(input)\n",
    "    buffered_gdf = gdf.buffer(distance=buffer_distance)\n",
    "    buffered_gdf.to_file(output)\n",
    "\n",
    "def RPL_Union_analysis(inputs, output):\n",
    "    \"\"\"\n",
    "    Unions multiple shapefiles into a single shapefile, merging geometries and discarding attributes.\n",
    "    \n",
    "    Parameters:\n",
    "    - inputs: List of paths to input shapefiles.\n",
    "    - output: Path to save the unioned shapefile.\n",
    "    \n",
    "    Returns:\n",
    "    - None\n",
    "    \"\"\"\n",
    "    gds_list = [gpd.read_file(input).geometry for input in inputs]\n",
    "    gs_all = gpd.GeoSeries(pd.concat(gds_list, ignore_index=True), crs=gds_list[0].crs)\n",
    "    unioned =  gs_all.union_all()\n",
    "    unioned.to_file(output)\n",
    "\n",
    "def RPL_ExtractByMask(input_raster, mask_shapefile, output_raster):\n",
    "    \"\"\"\n",
    "    Extract the cells of a raster that fall within the area defined by a shapefile mask, setting other cells to nodata.\n",
    "    \n",
    "    Parameters:\n",
    "    - input_raster: Path to the input raster file.\n",
    "    - mask_shapefile: Path to the shapefile defining the mask.\n",
    "    \n",
    "    Returns:\n",
    "    - None\n",
    "    \"\"\"\n",
    "    mask_gdf = gpd.read_file(mask_shapefile)\n",
    "    mask_geoms = mask_gdf.geometry.values\n",
    "\n",
    "    # Open the raster file\n",
    "    with rasterio.open(input_raster) as src:\n",
    "        # Mask the raster with the shapefile geometry\n",
    "        out_image, out_transform = mask(src, mask_geoms, crop=True)\n",
    "\n",
    "        # Copy the metadata\n",
    "        out_meta = src.meta.copy()\n",
    "        out_meta.update({\n",
    "            \"driver\": \"GTiff\",\n",
    "            \"height\": out_image.shape[1],\n",
    "            \"width\": out_image.shape[2],\n",
    "            \"transform\": out_transform,\n",
    "            # \"nodata\": src.nodata,  # Ensure nodata is preserved\n",
    "            \"nodata\": None\n",
    "        })\n",
    "\n",
    "    # Save the masked raster to file\n",
    "    with rasterio.open(output_raster, \"w\", **out_meta) as dest:\n",
    "        dest.write(out_image)\n",
    "\n",
    "def RPL_PolygonToRaster_conversion(input_shp, output_raster, template_raster):\n",
    "    \"\"\"\n",
    "    Convert a polygon shapefile to a raster format according to a template raster. \n",
    "    Cells in polygons will be set to 1, others to 0.\n",
    "\n",
    "    Parameters:\n",
    "    - input_shp: Path to the input polygon shapefile.\n",
    "    - output_raster: Path to save the output raster file.\n",
    "    - template_raster: Path to the template raster file for alignment.\n",
    "\n",
    "    Returns:\n",
    "    - None\n",
    "    \"\"\"\n",
    "    transform = None\n",
    "    out_shape = None\n",
    "    crs = None\n",
    "    with rasterio.open(template_raster) as src:\n",
    "        transform = src.transform\n",
    "        out_shape = (src.height, src.width)\n",
    "        crs = src.crs\n",
    "    \n",
    "    gdf = gpd.read_file(input_shp)\n",
    "    shapes = [(geom, 1) for geom in gdf.geometry]\n",
    "\n",
    "    rasterized = rasterio.features.rasterize(\n",
    "            shapes=shapes,\n",
    "            out_shape=out_shape,\n",
    "            transform=transform,\n",
    "            fill=0,\n",
    "            dtype='uint8',\n",
    "            # all_touched=True,\n",
    "        )\n",
    "\n",
    "    with rasterio.open(\n",
    "        output_raster,\n",
    "        'w',\n",
    "        driver='GTiff',\n",
    "        height=out_shape[0],\n",
    "        width=out_shape[1],\n",
    "        count=1,\n",
    "        dtype='uint8',\n",
    "        crs=crs,\n",
    "        transform=transform\n",
    "    ) as dst:\n",
    "        dst.write(rasterized, 1)\n",
    "\n",
    "def RPL_DistanceAccumulation(input_raster,output_raster):\n",
    "    \"\"\"\n",
    "    Perform euclidean distance accumulation on a binary raster, where 1 represents target areas and 0 represents other areas.\n",
    "    The output raster will contain the distance from each cell to the nearest target area.\n",
    "\n",
    "    Parameters:\n",
    "    - input_raster: Path to the input binary raster file.\n",
    "    - output_raster: Path to save the output raster file with distance accumulation.\n",
    "    \n",
    "    Returns:\n",
    "    - None\n",
    "    \"\"\"\n",
    "    with rasterio.open(input_raster) as src:\n",
    "        raster_data = src.read(1)\n",
    "        raster_nodata = src.nodata\n",
    "\n",
    "        if raster_nodata is not None:\n",
    "            nodata_mask = (raster_data == raster_nodata)\n",
    "        else:\n",
    "            nodata_mask = np.zeros_like(raster_data, dtype=bool)\n",
    "\n",
    "        inverse_mask = (raster_data != 1)\n",
    "\n",
    "        # Calculate the distance transform\n",
    "        distance = distance_transform_edt(inverse_mask)\n",
    "\n",
    "        # Convert distance to meters if the pixel size is known\n",
    "        pixel_size = src.transform.a\n",
    "        distance_in_meters = distance * pixel_size\n",
    "\n",
    "        # Set the nodata values in the distance raster\n",
    "        distance_in_meters[nodata_mask] = np.nan\n",
    "\n",
    "        # Save the result to a new raster file\n",
    "        with rasterio.open(output_raster, 'w', driver='GTiff', height=src.height, width=src.width,\n",
    "                           count=1, dtype='float32', crs=src.crs, transform=src.transform) as dst:\n",
    "            dst.write(distance_in_meters.astype('float32'), 1)"
   ]
  },
  {
   "cell_type": "code",
   "execution_count": 157,
   "id": "18846e51",
   "metadata": {},
   "outputs": [
    {
     "data": {
      "image/png": "[encoded data removed]",
      "text/plain": [
       "<Figure size 640x480 with 1 Axes>"
      ]
     },
     "metadata": {},
     "output_type": "display_data"
    },
    {
     "data": {
      "image/png": "[encoded data removed]",
      "text/plain": [
       "<Figure size 640x480 with 1 Axes>"
      ]
     },
     "metadata": {},
     "output_type": "display_data"
    }
   ],
   "source": [
    "buffered_residential_in_district_shp=f'{root_dir}/output-data/buffered-residential-in-district.shp'\n",
    "buffered_residential_in_district_raster=f'{root_dir}/output-data/buffered-residential-in-district_raster.tif'\n",
    "slope_in_district_raster = f'{root_dir}/output-data/slope-in-district.tif'\n",
    "distance_residential_in_district_raster=f'{root_dir}/output-data/distance-residential-in-district_raster.tif'\n",
    "\n",
    "gpd.read_file(buffered_residential_in_district_shp).plot()\n",
    "\n",
    "RPL_PolygonToRaster_conversion(buffered_residential_in_district_shp, buffered_residential_in_district_raster, slope_in_district_raster)\n",
    "\n",
    "show_raster(buffered_residential_in_district_raster)\n",
    "\n",
    "\n",
    "RPL_DistanceAccumulation(buffered_residential_in_district_raster, distance_residential_in_district_raster)\n",
    "show_raster(distance_residential_in_district_raster)"
   ]
  },
  {
   "cell_type": "code",
   "execution_count": null,
   "id": "13324076",
   "metadata": {},
   "outputs": [
    {
     "name": "stdout",
     "output_type": "stream",
     "text": [
      "Unique values in the raster (excluding NoData): [    0.         24.94766    35.28132 ... 16377.469   16383.017\n",
      " 16397.654  ]\n"
     ]
    }
   ],
   "source": [
    "import rasterio\n",
    "import numpy as np\n",
    "district_raster=f'{root_dir}/output-data/district-raster2.tif'\n",
    "# Read the raster file \n",
    "with rasterio.open(district_raster) as src:\n",
    "    raster_data = src.read(1)  # Read the first band\n",
    "    nodata_value = src.nodata  # Get the NoData value (could be None)\n",
    "\n",
    "# Get unique pixel values\n",
    "unique_values = np.unique(raster_data)\n",
    "\n",
    "# If there is a NoData value, exclude it\n",
    "if nodata_value is not None:\n",
    "    unique_values = unique_values[unique_values != nodata_value]\n",
    "\n",
    "# Print the result\n",
    "print(f\"Unique values in the raster (excluding NoData): {unique_values}\")"
   ]
  },
  {
   "cell_type": "code",
   "execution_count": null,
   "id": "6ee28e21",
   "metadata": {},
   "outputs": [
    {
     "data": {
      "image/png": "[encoded data removed]",
      "text/plain": [
       "<Figure size 1000x500 with 3 Axes>"
      ]
     },
     "metadata": {},
     "output_type": "display_data"
    },
    {
     "name": "stdout",
     "output_type": "stream",
     "text": [
      "Distance Transform Result (in pixels):\n",
      " [[2.23606798 1.41421356 1.         1.41421356 2.23606798]\n",
      " [2.         1.         0.         1.         2.        ]\n",
      " [1.41421356 1.         1.         1.41421356 2.23606798]\n",
      " [1.         0.         1.         2.         2.82842712]\n",
      " [1.41421356 1.         1.41421356 2.23606798 3.16227766]]\n"
     ]
    }
   ],
   "source": [
    "import numpy as np\n",
    "import matplotlib.pyplot as plt\n",
    "from scipy.ndimage import distance_transform_edt\n",
    "\n",
    "# Create a simple 5x5 raster to simulate roads\n",
    "# 1 represents road, 0 represents other areas\n",
    "road_raster = np.array([\n",
    "    [0, 0, 0, 0, 0],\n",
    "    [0, 0, 1, 0, 0],\n",
    "    [0, 0, 0, 0, 0],\n",
    "    [0, 1, 0, 0, 0],\n",
    "    [0, 0, 0, 0, 0]\n",
    "], dtype=np.uint8)\n",
    "\n",
    "# Invert road positions (road is False, others are True)\n",
    "inverse_mask = (road_raster == 0)\n",
    "\n",
    "# Calculate Euclidean distance (in pixels)\n",
    "distance = distance_transform_edt(inverse_mask)\n",
    "\n",
    "# Show original road positions and distance map\n",
    "fig, axs = plt.subplots(1, 2, figsize=(10, 5))\n",
    "\n",
    "# Show road positions\n",
    "axs[0].imshow(road_raster, cmap='gray_r')\n",
    "axs[0].set_title('Road Raster (1=road)')\n",
    "axs[0].axis('off')\n",
    "\n",
    "# Show distance map\n",
    "im = axs[1].imshow(distance, cmap='viridis')\n",
    "axs[1].set_title('Euclidean Distance Transform')\n",
    "axs[1].axis('off')\n",
    "\n",
    "# Show colorbar\n",
    "fig.colorbar(im, ax=axs[1])\n",
    "\n",
    "plt.show()\n",
    "\n",
    "# Print numeric results\n",
    "print(\"Distance Transform Result (in pixels):\\n\", distance)"
   ]
  },
  {
   "cell_type": "code",
   "execution_count": null,
   "id": "9e2685ea",
   "metadata": {},
   "outputs": [],
   "source": [
    "district_shp=f'{root_dir}/output-data/district.shp'\n",
    "slope_in_district_raster = f'{root_dir}/output-data/slope-in-district.tif'\n",
    "district_raster=f'{root_dir}/output-data/district-raster.tif'\n",
    "RPL_PolygonToRaster_conversion(\n",
    "    input_shp=district_shp,\n",
    "    output_raster=district_raster,\n",
    "    template_raster=slope_in_district_raster\n",
    ")"
   ]
  },
  {
   "cell_type": "code",
   "execution_count": 153,
   "id": "cf7d14f8",
   "metadata": {},
   "outputs": [
    {
     "data": {
      "image/png": "[encoded data removed]",
      "text/plain": [
       "<Figure size 640x480 with 1 Axes>"
      ]
     },
     "metadata": {},
     "output_type": "display_data"
    }
   ],
   "source": [
    "show_raster(district_raster)"
   ]
  },
  {
   "cell_type": "code",
   "execution_count": null,
   "id": "86e7e1b0",
   "metadata": {},
   "outputs": [],
   "source": [
    "import rasterio\n",
    "from rasterio.mask import mask\n",
    "import geopandas as gpd\n",
    "from matplotlib import pyplot\n",
    "\n",
    "annual_solar_radiation_raster = f'{root_dir}/test-data/lris-lenz-mean-annual-solar-radiation-GTiff/solar_2193.tif'\n",
    "slope_raster = f'{root_dir}/test-data/lris-lenz-slope-GTiff/slop_2193.tif'\n",
    "temperature_raster = f'{root_dir}/test-data/lris-lenz-mean-annual-temperature-GTiff/temperature_2193.tif'\n",
    "district_shp=f'{root_dir}/output-data/district.shp'\n",
    "solar_in_district_raster = f'{root_dir}/output-data/solar-in-district.tif'\n",
    "slope_in_district_raster = f'{root_dir}/output-data/slope-in-district.tif'\n",
    "temperature_in_district_raster = f'{root_dir}/output-data/temperature-in-district.tif'\n",
    "\n",
    "\n",
    "RPL_ExtractByMask(annual_solar_radiation_raster, district_shp, solar_in_district_raster)\n",
    "RPL_ExtractByMask(slope_raster, district_shp, slope_in_district_raster)\n",
    "RPL_ExtractByMask(temperature_raster, district_shp, temperature_in_district_raster)\n"
   ]
  },
  {
   "cell_type": "code",
   "execution_count": null,
   "id": "f0cdbfda",
   "metadata": {},
   "outputs": [],
   "source": [
    "src = rasterio.open(solar_in_district_raster)\n",
    "pyplot.imshow(src.read(1))\n",
    "pyplot.show()"
   ]
  },
  {
   "cell_type": "code",
   "execution_count": null,
   "id": "f55fbcdd",
   "metadata": {},
   "outputs": [],
   "source": [
    "gdf = gpd.read_file(district_shp)\n",
    "print(gdf.total_bounds)"
   ]
  },
  {
   "cell_type": "code",
   "execution_count": null,
   "id": "d374034d",
   "metadata": {},
   "outputs": [],
   "source": [
    "for file in [district_raster,solar_in_district_raster, slope_in_district_raster, temperature_in_district_raster]:\n",
    "    with rasterio.open(file) as src:\n",
    "        print(f\"File: {file}\")\n",
    "        print(src.meta)\n",
    "        # print(\"CRS:\", src.crs)\n",
    "        # print(\"Bounds:\", src.bounds)\n",
    "        # print(\"Profile:\", src.profile)\n",
    "        # print(\"Meta:\", src.meta)\n",
    "        # print(\"NoData Value:\", src.nodata)\n",
    "        # print(\"Number of Bands:\", src.count)\n",
    "        # print(\"Shape:\", src.shape)\n",
    "        # print(\"Data Types:\", src.dtypes)\n",
    "        # print(\"Transform:\", src.transform)\n",
    "        print(\"\\n\")"
   ]
  },
  {
   "cell_type": "code",
   "execution_count": null,
   "id": "b3c1f4bd",
   "metadata": {},
   "outputs": [],
   "source": [
    "# union buffered lake and residential areas in a specific district\n",
    "buffered_lake_in_district_shp=f'{root_dir}/output-data/buffered-lake-in-district.shp'\n",
    "buffered_residential_in_district_shp=f'{root_dir}/output-data/buffered-residential-in-district.shp'\n",
    "unioned_in_district_shp=f'{root_dir}/output-data/unioned-in-district.shp'\n",
    "gdf1 = gpd.read_file(buffered_lake_in_district_shp)\n",
    "gdf2 = gpd.read_file(buffered_residential_in_district_shp)\n",
    "gs_all = gpd.GeoSeries(pd.concat([gdf1.geometry, gdf2.geometry], ignore_index=True), crs=gdf1.crs)\n",
    "\n",
    "# gs_all.plot(figsize=(10, 10),facecolor='none', edgecolor='black')\n",
    "unioned =  gpd.GeoSeries([gs_all.union_all()], crs=gs_all.crs)\n",
    "unioned.plot(figsize=(10, 10), facecolor='none', edgecolor='red')\n",
    "RPL_Union_analysis([buffered_lake_in_district_shp, buffered_residential_in_district_shp], unioned_in_district_shp)\n",
    "gpd.read_file(unioned_in_district_shp).plot(figsize=(10, 10), facecolor='none', edgecolor='blue')"
   ]
  },
  {
   "cell_type": "code",
   "execution_count": null,
   "id": "6319fb81",
   "metadata": {},
   "outputs": [],
   "source": [
    "# Create buffer for lake areas in a specific district\n",
    "lake_in_district_shp=f'{root_dir}/output-data/lake-in-district.shp'\n",
    "buffered_lake_in_district_shp=f'{root_dir}/output-data/buffered-lake-in-district.shp'\n",
    "RPL_Buffer_analysis(\n",
    "    input=lake_in_district_shp,\n",
    "    output=buffered_lake_in_district_shp,\n",
    "    buffer_distance=500\n",
    ")\n",
    "gpd.read_file(buffered_lake_in_district_shp).plot(figsize=(10, 10))"
   ]
  },
  {
   "cell_type": "code",
   "execution_count": null,
   "id": "db21dbf0",
   "metadata": {},
   "outputs": [],
   "source": [
    "# Create buffer for residential areas in a specific district\n",
    "residential_in_district_shp=f'{root_dir}/output-data/residential-in-district.shp'\n",
    "buffered_residential_in_district_shp=f'{root_dir}/output-data/buffered-residential-in-district.shp'\n",
    "RPL_Buffer_analysis(\n",
    "    input=residential_in_district_shp,\n",
    "    output=buffered_residential_in_district_shp,\n",
    "    buffer_distance=1000\n",
    ")\n",
    "gpd.read_file(buffered_residential_in_district_shp).plot(figsize=(10, 10))"
   ]
  },
  {
   "cell_type": "code",
   "execution_count": null,
   "id": "35876075",
   "metadata": {},
   "outputs": [],
   "source": [
    "# clip the residential polygons to the district boundary\n",
    "all_residential_shp = f'{root_dir}/test-data/lds-nz-residential-area-polygons-topo-150k-SHP/nz-residential-area-polygons-topo-150k.shp'\n",
    "district_shp=f'{root_dir}/output-data/district.shp'\n",
    "residential_in_district_shp=f'{root_dir}/output-data/residential-in-district.shp'\n",
    "RPL_Clip_analysis(\n",
    "    output=residential_in_district_shp,\n",
    "    whole_area=all_residential_shp,\n",
    "    boundary=district_shp\n",
    ")"
   ]
  },
  {
   "cell_type": "code",
   "execution_count": null,
   "id": "d435e375",
   "metadata": {},
   "outputs": [],
   "source": [
    "gpd.read_file(residential_in_district_shp).plot(figsize=(10, 10))"
   ]
  },
  {
   "cell_type": "code",
   "execution_count": null,
   "id": "e3b6cbf7",
   "metadata": {},
   "outputs": [],
   "source": [
    "# clip the lake polygons to the district boundary\n",
    "all_lake_shp = f'{root_dir}/test-data/lds-nz-lake-polygons-topo-150k-SHP/nz-lake-polygons-topo-150k.shp'\n",
    "district_shp=f'{root_dir}/output-data/district.shp'\n",
    "lake_in_district_shp=f'{root_dir}/output-data/lake-in-district.shp'\n",
    "RPL_Clip_analysis(\n",
    "    output=lake_in_district_shp,\n",
    "    whole_area=all_lake_shp,\n",
    "    boundary=district_shp\n",
    ")"
   ]
  },
  {
   "cell_type": "code",
   "execution_count": null,
   "id": "a7f4d76e",
   "metadata": {},
   "outputs": [],
   "source": [
    "gpd.read_file(lake_in_district_shp).plot(figsize=(10, 10))"
   ]
  },
  {
   "cell_type": "code",
   "execution_count": null,
   "id": "1f757103",
   "metadata": {},
   "outputs": [],
   "source": [
    "# extract a specific district (e.g., '002') from the territorial authority shapefile\n",
    "input_shp=f'{root_dir}/test-data/statsnz-territorial-authority-2025-clipped-SHP/territorial-authority-2025-clipped.shp'\n",
    "output_shp=f'{root_dir}/output-data/district.shp'\n",
    "RPL_Select_analysis(\n",
    "    input_shp=input_shp,\n",
    "    output_shp=output_shp,\n",
    "    conditions_expression=f\"TA2025_V1_ == '024'\"\n",
    ")\n",
    "gpd.read_file(output_shp).plot(figsize=(10, 10))"
   ]
  }
 ],
 "metadata": {
  "kernelspec": {
   "display_name": ".venv",
   "language": "python",
   "name": "python3"
  },
  "language_info": {
   "codemirror_mode": {
    "name": "ipython",
    "version": 3
   },
   "file_extension": ".py",
   "mimetype": "text/x-python",
   "name": "python",
   "nbconvert_exporter": "python",
   "pygments_lexer": "ipython3",
   "version": "3.13.1"
  }
 },
 "nbformat": 4,
 "nbformat_minor": 5
}
