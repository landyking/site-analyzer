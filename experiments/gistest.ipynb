{
 "cells": [
  {
   "cell_type": "markdown",
   "id": "b023bec7",
   "metadata": {},
   "source": [
    "# Develop and Test GIS Functions\n",
    "\n",
    "This notebook is for developing and testing the GIS functions implemented in `functions.py` using open-source libraries such as geopandas, rasterio, numpy, and scipy."
   ]
  },
  {
   "cell_type": "code",
   "execution_count": 1,
   "id": "ff2168c2",
   "metadata": {},
   "outputs": [
    {
     "name": "stdout",
     "output_type": "stream",
     "text": [
      "Requirement already satisfied: geopandas in ./.venv/lib/python3.13/site-packages (1.1.1)\n",
      "Requirement already satisfied: numpy>=1.24 in ./.venv/lib/python3.13/site-packages (from geopandas) (2.3.2)\n",
      "Requirement already satisfied: pyogrio>=0.7.2 in ./.venv/lib/python3.13/site-packages (from geopandas) (0.11.0)\n",
      "Requirement already satisfied: packaging in ./.venv/lib/python3.13/site-packages (from geopandas) (25.0)\n",
      "Requirement already satisfied: pandas>=2.0.0 in ./.venv/lib/python3.13/site-packages (from geopandas) (2.3.1)\n",
      "Requirement already satisfied: pyproj>=3.5.0 in ./.venv/lib/python3.13/site-packages (from geopandas) (3.7.1)\n",
      "Requirement already satisfied: shapely>=2.0.0 in ./.venv/lib/python3.13/site-packages (from geopandas) (2.1.1)\n",
      "Requirement already satisfied: python-dateutil>=2.8.2 in ./.venv/lib/python3.13/site-packages (from pandas>=2.0.0->geopandas) (2.9.0.post0)\n",
      "Requirement already satisfied: pytz>=2020.1 in ./.venv/lib/python3.13/site-packages (from pandas>=2.0.0->geopandas) (2025.2)\n",
      "Requirement already satisfied: tzdata>=2022.7 in ./.venv/lib/python3.13/site-packages (from pandas>=2.0.0->geopandas) (2025.2)\n",
      "Requirement already satisfied: certifi in ./.venv/lib/python3.13/site-packages (from pyogrio>=0.7.2->geopandas) (2025.7.14)\n",
      "Requirement already satisfied: six>=1.5 in ./.venv/lib/python3.13/site-packages (from python-dateutil>=2.8.2->pandas>=2.0.0->geopandas) (1.17.0)\n",
      "\n",
      "\u001b[1m[\u001b[0m\u001b[34;49mnotice\u001b[0m\u001b[1;39;49m]\u001b[0m\u001b[39;49m A new release of pip is available: \u001b[0m\u001b[31;49m24.3.1\u001b[0m\u001b[39;49m -> \u001b[0m\u001b[32;49m25.2\u001b[0m\n",
      "\u001b[1m[\u001b[0m\u001b[34;49mnotice\u001b[0m\u001b[1;39;49m]\u001b[0m\u001b[39;49m To update, run: \u001b[0m\u001b[32;49mpip install --upgrade pip\u001b[0m\n",
      "Note: you may need to restart the kernel to use updated packages.\n",
      "Requirement already satisfied: rasterio in ./.venv/lib/python3.13/site-packages (1.4.3)\n",
      "Requirement already satisfied: affine in ./.venv/lib/python3.13/site-packages (from rasterio) (2.4.0)\n",
      "Requirement already satisfied: attrs in ./.venv/lib/python3.13/site-packages (from rasterio) (25.3.0)\n",
      "Requirement already satisfied: certifi in ./.venv/lib/python3.13/site-packages (from rasterio) (2025.7.14)\n",
      "Requirement already satisfied: click>=4.0 in ./.venv/lib/python3.13/site-packages (from rasterio) (8.2.1)\n",
      "Requirement already satisfied: cligj>=0.5 in ./.venv/lib/python3.13/site-packages (from rasterio) (0.7.2)\n",
      "Requirement already satisfied: numpy>=1.24 in ./.venv/lib/python3.13/site-packages (from rasterio) (2.3.2)\n",
      "Requirement already satisfied: click-plugins in ./.venv/lib/python3.13/site-packages (from rasterio) (1.1.1.2)\n",
      "Requirement already satisfied: pyparsing in ./.venv/lib/python3.13/site-packages (from rasterio) (3.2.3)\n",
      "\n",
      "\u001b[1m[\u001b[0m\u001b[34;49mnotice\u001b[0m\u001b[1;39;49m]\u001b[0m\u001b[39;49m A new release of pip is available: \u001b[0m\u001b[31;49m24.3.1\u001b[0m\u001b[39;49m -> \u001b[0m\u001b[32;49m25.2\u001b[0m\n",
      "\u001b[1m[\u001b[0m\u001b[34;49mnotice\u001b[0m\u001b[1;39;49m]\u001b[0m\u001b[39;49m To update, run: \u001b[0m\u001b[32;49mpip install --upgrade pip\u001b[0m\n",
      "Note: you may need to restart the kernel to use updated packages.\n",
      "Requirement already satisfied: scipy in ./.venv/lib/python3.13/site-packages (1.16.1)\n",
      "Requirement already satisfied: numpy<2.6,>=1.25.2 in ./.venv/lib/python3.13/site-packages (from scipy) (2.3.2)\n",
      "\n",
      "\u001b[1m[\u001b[0m\u001b[34;49mnotice\u001b[0m\u001b[1;39;49m]\u001b[0m\u001b[39;49m A new release of pip is available: \u001b[0m\u001b[31;49m24.3.1\u001b[0m\u001b[39;49m -> \u001b[0m\u001b[32;49m25.2\u001b[0m\n",
      "\u001b[1m[\u001b[0m\u001b[34;49mnotice\u001b[0m\u001b[1;39;49m]\u001b[0m\u001b[39;49m To update, run: \u001b[0m\u001b[32;49mpip install --upgrade pip\u001b[0m\n",
      "Note: you may need to restart the kernel to use updated packages.\n"
     ]
    }
   ],
   "source": [
    "%pip install geopandas\n",
    "%pip install rasterio\n",
    "%pip install scipy"
   ]
  },
  {
   "cell_type": "code",
   "execution_count": 2,
   "id": "4aead45f",
   "metadata": {},
   "outputs": [],
   "source": [
    "# Import Required Libraries\n",
    "import os\n",
    "import sys\n",
    "import unittest\n",
    "import geopandas as gpd\n",
    "import rasterio\n",
    "import numpy as np\n",
    "import scipy\n"
   ]
  },
  {
   "cell_type": "code",
   "execution_count": 4,
   "id": "73599415",
   "metadata": {},
   "outputs": [
    {
     "data": {
      "text/plain": [
       "['/usr/local/Cellar/python@3.13/3.13.1/Frameworks/Python.framework/Versions/3.13/lib/python313.zip',\n",
       " '/usr/local/Cellar/python@3.13/3.13.1/Frameworks/Python.framework/Versions/3.13/lib/python3.13',\n",
       " '/usr/local/Cellar/python@3.13/3.13.1/Frameworks/Python.framework/Versions/3.13/lib/python3.13/lib-dynload',\n",
       " '',\n",
       " '/Users/landy/UoW/COMPX576/code/site-analyzer/experiments/.venv/lib/python3.13/site-packages',\n",
       " '/Users/landy/UoW/COMPX576/code/site-analyzer/experiments']"
      ]
     },
     "execution_count": 4,
     "metadata": {},
     "output_type": "execute_result"
    }
   ],
   "source": [
    "# Import functions from functions.py\n",
    "sys.path.append(os.path.abspath('.'))  # Ensure current directory is in path\n",
    "sys.path"
   ]
  },
  {
   "cell_type": "markdown",
   "id": "8f8c741a",
   "metadata": {},
   "source": [
    "## Test Individual Functions\n",
    "\n",
    "Call each function with sample inputs and display the outputs to verify their behavior."
   ]
  },
  {
   "cell_type": "markdown",
   "id": "12487090",
   "metadata": {},
   "source": [
    "## Write Unit Tests for Functions\n",
    "\n",
    "Create unit tests for each function using the unittest module or pytest, and define test cases for different scenarios."
   ]
  },
  {
   "cell_type": "markdown",
   "id": "29b7248f",
   "metadata": {},
   "source": [
    "## Display Test Results\n",
    "\n",
    "Run the unit tests and display the results in the notebook output."
   ]
  }
 ],
 "metadata": {
  "kernelspec": {
   "display_name": ".venv",
   "language": "python",
   "name": "python3"
  },
  "language_info": {
   "codemirror_mode": {
    "name": "ipython",
    "version": 3
   },
   "file_extension": ".py",
   "mimetype": "text/x-python",
   "name": "python",
   "nbconvert_exporter": "python",
   "pygments_lexer": "ipython3",
   "version": "3.13.1"
  }
 },
 "nbformat": 4,
 "nbformat_minor": 5
}
