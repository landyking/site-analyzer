{
 "cells": [
  {
   "cell_type": "code",
   "execution_count": null,
   "id": "9c081825",
   "metadata": {},
   "outputs": [],
   "source": [
    "%pip install geopandas\n",
    "%pip install rasterio\n",
    "%pip install scipy"
   ]
  },
  {
   "cell_type": "markdown",
   "id": "b023bec7",
   "metadata": {},
   "source": [
    "# Develop and Test GIS Functions\n",
    "\n",
    "This notebook is for developing and testing the GIS functions implemented in `functions.py` using open-source libraries such as geopandas, rasterio, numpy, and scipy."
   ]
  },
  {
   "cell_type": "code",
   "execution_count": null,
   "id": "4aead45f",
   "metadata": {},
   "outputs": [],
   "source": [
    "# Import Required Libraries\n",
    "import os\n",
    "import sys\n",
    "import unittest\n",
    "import geopandas as gpd\n",
    "import pandas as pd\n",
    "import rasterio\n",
    "import numpy as np\n",
    "import scipy\n",
    "import rasterio\n",
    "from rasterio.mask import mask\n"
   ]
  },
  {
   "cell_type": "code",
   "execution_count": null,
   "id": "73599415",
   "metadata": {},
   "outputs": [],
   "source": [
    "# Import functions from functions.py\n",
    "cur_dir = os.path.abspath('.')\n",
    "if cur_dir not in sys.path:\n",
    "    sys.path.append(cur_dir)  # Ensure current directory is in path\n",
    "sys.path"
   ]
  },
  {
   "cell_type": "code",
   "execution_count": null,
   "id": "24720892",
   "metadata": {},
   "outputs": [],
   "source": [
    "def RPL_Select_analysis(input_shp, output_shp, conditions_expression):\n",
    "    \"\"\"\n",
    "    Selects features from the input shapefile based on a given expression and saves them to an output shapefile.\n",
    "    \n",
    "    Parameters:\n",
    "    - input_shp: Path to the input shapefile.\n",
    "    - output_shp: Path to save the output shapefile.\n",
    "    - conditions_expression: Expression to filter features. Example: \"TA2025_V1_ == '001'\".\n",
    "    \n",
    "    Returns:\n",
    "    - None\n",
    "    \"\"\"\n",
    "    gdf = gpd.read_file(input_shp)\n",
    "    selected_gdf = gdf.query(conditions_expression)\n",
    "    selected_gdf.to_file(output_shp)\n",
    "\n",
    "def RPL_Clip_analysis(output, whole_area, boundary):\n",
    "    \"\"\"\n",
    "    Clips a whole area shapefile to a specified boundary and saves the result.\n",
    "    \n",
    "    Parameters:\n",
    "    - output: Path to save the clipped shapefile.\n",
    "    - whole_area: Path to the whole area shapefile.\n",
    "    - boundary: Path to the boundary shapefile.\n",
    "    \n",
    "    Returns:\n",
    "    - None\n",
    "    \"\"\"\n",
    "    whole_area_gdf = gpd.read_file(whole_area)\n",
    "    boundary_gdf = gpd.read_file(boundary)\n",
    "    \n",
    "    clipped_gdf = gpd.clip(whole_area_gdf, boundary_gdf)\n",
    "    clipped_gdf.to_file(output)\n",
    "\n",
    "def RPL_Buffer_analysis(input, output, buffer_distance):\n",
    "    \"\"\"\n",
    "    Creates a buffer around features in a shapefile and saves the result.\n",
    "    Users can use `[axis.unit_name for axis in gdf.crs.axis_info]` to get the unit of a shapefile.\n",
    "    \n",
    "    Parameters:\n",
    "    - input: Path to the input shapefile.\n",
    "    - output: Path to save the buffered shapefile.\n",
    "    - buffer_distance: Distance for the buffer (float, same unit as input shapefile).\n",
    "\n",
    "    Returns:\n",
    "    - None\n",
    "    \"\"\"\n",
    "    gdf = gpd.read_file(input)\n",
    "    buffered_gdf = gdf.buffer(distance=buffer_distance)\n",
    "    buffered_gdf.to_file(output)\n",
    "\n",
    "def RPL_Union_analysis(inputs, output):\n",
    "    \"\"\"\n",
    "    Unions multiple shapefiles into a single shapefile, merging geometries and discarding attributes.\n",
    "    \n",
    "    Parameters:\n",
    "    - inputs: List of paths to input shapefiles.\n",
    "    - output: Path to save the unioned shapefile.\n",
    "    \n",
    "    Returns:\n",
    "    - None\n",
    "    \"\"\"\n",
    "    gds_list = [gpd.read_file(input).geometry for input in inputs]\n",
    "    gs_all = gpd.GeoSeries(pd.concat(gds_list, ignore_index=True), crs=gds_list[0].crs)\n",
    "    unioned =  gs_all.union_all()\n",
    "    unioned.to_file(output)\n",
    "\n",
    "def RPL_ExtractByMask(input_raster, mask_shapefile, output_raster):\n",
    "    \"\"\"\n",
    "    Extract the cells of a raster that fall within the area defined by a shapefile mask, setting other cells to nodata.\n",
    "    \n",
    "    Parameters:\n",
    "    - input_raster: Path to the input raster file.\n",
    "    - mask_shapefile: Path to the shapefile defining the mask.\n",
    "    \n",
    "    Returns:\n",
    "    - None\n",
    "    \"\"\"\n",
    "    mask_gdf = gpd.read_file(mask_shapefile)\n",
    "    mask_geoms = mask_gdf.geometry.values\n",
    "\n",
    "    # Open the raster file\n",
    "    with rasterio.open(input_raster) as src:\n",
    "        # Mask the raster with the shapefile geometry\n",
    "        out_image, out_transform = mask(src, mask_geoms, crop=True)\n",
    "\n",
    "        # Copy the metadata\n",
    "        out_meta = src.meta.copy()\n",
    "        out_meta.update({\n",
    "            \"driver\": \"GTiff\",\n",
    "            \"height\": out_image.shape[1],\n",
    "            \"width\": out_image.shape[2],\n",
    "            \"transform\": out_transform,\n",
    "            \"nodata\": src.nodata  # Ensure nodata is preserved\n",
    "        })\n",
    "\n",
    "    # Save the masked raster to file\n",
    "    with rasterio.open(output_raster, \"w\", **out_meta) as dest:\n",
    "        dest.write(out_image)\n"
   ]
  },
  {
   "cell_type": "code",
   "execution_count": null,
   "id": "86e7e1b0",
   "metadata": {},
   "outputs": [],
   "source": [
    "import rasterio\n",
    "from rasterio.mask import mask\n",
    "import geopandas as gpd\n",
    "from matplotlib import pyplot\n",
    "\n",
    "annual_solar_radiation_raster = '/Users/landy/UoW/COMPX576/code/site-analyzer/test-data/lris-lenz-mean-annual-solar-radiation-GTiff/solar_2193.tif'\n",
    "slope_raster = '/Users/landy/UoW/COMPX576/code/site-analyzer/test-data/lris-lenz-slope-GTiff/slop_2193.tif'\n",
    "temperature_raster = '/Users/landy/UoW/COMPX576/code/site-analyzer/test-data/lris-lenz-mean-annual-temperature-GTiff/temperature_2193.tif'\n",
    "district_shp='/Users/landy/UoW/COMPX576/code/site-analyzer/output-data/district.shp'\n",
    "solar_in_district_raster = '/Users/landy/UoW/COMPX576/code/site-analyzer/output-data/solar-in-district.tif'\n",
    "slope_in_district_raster = '/Users/landy/UoW/COMPX576/code/site-analyzer/output-data/slope-in-district.tif'\n",
    "temperature_in_district_raster = '/Users/landy/UoW/COMPX576/code/site-analyzer/output-data/temperature-in-district.tif'\n",
    "\n",
    "\n",
    "RPL_ExtractByMask(annual_solar_radiation_raster, district_shp, solar_in_district_raster)\n",
    "RPL_ExtractByMask(slope_raster, district_shp, slope_in_district_raster)\n",
    "RPL_ExtractByMask(temperature_raster, district_shp, temperature_in_district_raster)\n"
   ]
  },
  {
   "cell_type": "code",
   "execution_count": null,
   "id": "f0cdbfda",
   "metadata": {},
   "outputs": [],
   "source": [
    "src = rasterio.open(solar_in_district_raster)\n",
    "pyplot.imshow(src.read(1))\n",
    "pyplot.show()"
   ]
  },
  {
   "cell_type": "code",
   "execution_count": null,
   "id": "b3c1f4bd",
   "metadata": {},
   "outputs": [],
   "source": [
    "# union buffered lake and residential areas in a specific district\n",
    "buffered_lake_in_district_shp='/Users/landy/UoW/COMPX576/code/site-analyzer/output-data/buffered-lake-in-district.shp'\n",
    "buffered_residential_in_district_shp='/Users/landy/UoW/COMPX576/code/site-analyzer/output-data/buffered-residential-in-district.shp'\n",
    "unioned_in_district_shp='/Users/landy/UoW/COMPX576/code/site-analyzer/output-data/unioned-in-district.shp'\n",
    "gdf1 = gpd.read_file(buffered_lake_in_district_shp)\n",
    "gdf2 = gpd.read_file(buffered_residential_in_district_shp)\n",
    "gs_all = gpd.GeoSeries(pd.concat([gdf1.geometry, gdf2.geometry], ignore_index=True), crs=gdf1.crs)\n",
    "\n",
    "# gs_all.plot(figsize=(10, 10),facecolor='none', edgecolor='black')\n",
    "unioned =  gpd.GeoSeries([gs_all.union_all()], crs=gs_all.crs)\n",
    "unioned.plot(figsize=(10, 10), facecolor='none', edgecolor='red')\n",
    "RPL_Union_analysis([buffered_lake_in_district_shp, buffered_residential_in_district_shp], unioned_in_district_shp)\n",
    "gpd.read_file(unioned_in_district_shp).plot(figsize=(10, 10), facecolor='none', edgecolor='blue')"
   ]
  },
  {
   "cell_type": "code",
   "execution_count": null,
   "id": "6319fb81",
   "metadata": {},
   "outputs": [],
   "source": [
    "# Create buffer for lake areas in a specific district\n",
    "lake_in_district_shp='/Users/landy/UoW/COMPX576/code/site-analyzer/output-data/lake-in-district.shp'\n",
    "buffered_lake_in_district_shp='/Users/landy/UoW/COMPX576/code/site-analyzer/output-data/buffered-lake-in-district.shp'\n",
    "RPL_Buffer_analysis(\n",
    "    input=lake_in_district_shp,\n",
    "    output=buffered_lake_in_district_shp,\n",
    "    buffer_distance=500\n",
    ")\n",
    "gpd.read_file(buffered_lake_in_district_shp).plot(figsize=(10, 10))"
   ]
  },
  {
   "cell_type": "code",
   "execution_count": null,
   "id": "db21dbf0",
   "metadata": {},
   "outputs": [],
   "source": [
    "# Create buffer for residential areas in a specific district\n",
    "residential_in_district_shp='/Users/landy/UoW/COMPX576/code/site-analyzer/output-data/residential-in-district.shp'\n",
    "buffered_residential_in_district_shp='/Users/landy/UoW/COMPX576/code/site-analyzer/output-data/buffered-residential-in-district.shp'\n",
    "RPL_Buffer_analysis(\n",
    "    input=residential_in_district_shp,\n",
    "    output=buffered_residential_in_district_shp,\n",
    "    buffer_distance=1000\n",
    ")\n",
    "gpd.read_file(buffered_residential_in_district_shp).plot(figsize=(10, 10))"
   ]
  },
  {
   "cell_type": "code",
   "execution_count": null,
   "id": "35876075",
   "metadata": {},
   "outputs": [],
   "source": [
    "# clip the residential polygons to the district boundary\n",
    "all_residential_shp = '/Users/landy/UoW/COMPX576/code/site-analyzer/test-data/lds-nz-residential-area-polygons-topo-150k-SHP/nz-residential-area-polygons-topo-150k.shp'\n",
    "district_shp='/Users/landy/UoW/COMPX576/code/site-analyzer/output-data/district.shp'\n",
    "residential_in_district_shp='/Users/landy/UoW/COMPX576/code/site-analyzer/output-data/residential-in-district.shp'\n",
    "RPL_Clip_analysis(\n",
    "    output=residential_in_district_shp,\n",
    "    whole_area=all_residential_shp,\n",
    "    boundary=district_shp\n",
    ")"
   ]
  },
  {
   "cell_type": "code",
   "execution_count": null,
   "id": "d435e375",
   "metadata": {},
   "outputs": [],
   "source": [
    "gpd.read_file(residential_in_district_shp).plot(figsize=(10, 10))"
   ]
  },
  {
   "cell_type": "code",
   "execution_count": null,
   "id": "e3b6cbf7",
   "metadata": {},
   "outputs": [],
   "source": [
    "# clip the lake polygons to the district boundary\n",
    "all_lake_shp = '/Users/landy/UoW/COMPX576/code/site-analyzer/test-data/lds-nz-lake-polygons-topo-150k-SHP/nz-lake-polygons-topo-150k.shp'\n",
    "district_shp='/Users/landy/UoW/COMPX576/code/site-analyzer/output-data/district.shp'\n",
    "lake_in_district_shp='/Users/landy/UoW/COMPX576/code/site-analyzer/output-data/lake-in-district.shp'\n",
    "RPL_Clip_analysis(\n",
    "    output=lake_in_district_shp,\n",
    "    whole_area=all_lake_shp,\n",
    "    boundary=district_shp\n",
    ")"
   ]
  },
  {
   "cell_type": "code",
   "execution_count": null,
   "id": "a7f4d76e",
   "metadata": {},
   "outputs": [],
   "source": [
    "gpd.read_file(lake_in_district_shp).plot(figsize=(10, 10))"
   ]
  },
  {
   "cell_type": "code",
   "execution_count": null,
   "id": "1f757103",
   "metadata": {},
   "outputs": [],
   "source": [
    "# extract a specific district (e.g., '002') from the territorial authority shapefile\n",
    "input_shp='/Users/landy/UoW/COMPX576/code/site-analyzer/test-data/statsnz-territorial-authority-2025-clipped-SHP/territorial-authority-2025-clipped.shp'\n",
    "output_shp='/Users/landy/UoW/COMPX576/code/site-analyzer/output-data/district.shp'\n",
    "RPL_Select_analysis(\n",
    "    input_shp=input_shp,\n",
    "    output_shp=output_shp,\n",
    "    conditions_expression=f\"TA2025_V1_ == '024'\"\n",
    ")\n",
    "gpd.read_file(output_shp).plot(figsize=(10, 10))"
   ]
  }
 ],
 "metadata": {
  "kernelspec": {
   "display_name": ".venv",
   "language": "python",
   "name": "python3"
  },
  "language_info": {
   "codemirror_mode": {
    "name": "ipython",
    "version": 3
   },
   "file_extension": ".py",
   "mimetype": "text/x-python",
   "name": "python",
   "nbconvert_exporter": "python",
   "pygments_lexer": "ipython3",
   "version": "3.13.1"
  }
 },
 "nbformat": 4,
 "nbformat_minor": 5
}
